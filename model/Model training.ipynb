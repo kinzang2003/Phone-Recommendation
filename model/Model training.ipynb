{
 "cells": [
  {
   "cell_type": "code",
   "execution_count": 1,
   "id": "5553979d",
   "metadata": {},
   "outputs": [],
   "source": [
    "import pandas as pd"
   ]
  },
  {
   "cell_type": "code",
   "execution_count": 2,
   "id": "11b376f5",
   "metadata": {},
   "outputs": [],
   "source": [
    "\n",
    "# Load the dataset\n",
    "data = pd.read_csv('ndtv_data_final.csv')  # Modify the path accordingly"
   ]
  },
  {
   "cell_type": "code",
   "execution_count": 3,
   "id": "5506427e",
   "metadata": {
    "scrolled": true
   },
   "outputs": [
    {
     "data": {
      "text/html": [
       "<div>\n",
       "<style scoped>\n",
       "    .dataframe tbody tr th:only-of-type {\n",
       "        vertical-align: middle;\n",
       "    }\n",
       "\n",
       "    .dataframe tbody tr th {\n",
       "        vertical-align: top;\n",
       "    }\n",
       "\n",
       "    .dataframe thead th {\n",
       "        text-align: right;\n",
       "    }\n",
       "</style>\n",
       "<table border=\"1\" class=\"dataframe\">\n",
       "  <thead>\n",
       "    <tr style=\"text-align: right;\">\n",
       "      <th></th>\n",
       "      <th>Unnamed: 0</th>\n",
       "      <th>Name</th>\n",
       "      <th>Brand</th>\n",
       "      <th>Model</th>\n",
       "      <th>Battery capacity (mAh)</th>\n",
       "      <th>Screen size (inches)</th>\n",
       "      <th>Touchscreen</th>\n",
       "      <th>Resolution x</th>\n",
       "      <th>Resolution y</th>\n",
       "      <th>Processor</th>\n",
       "      <th>...</th>\n",
       "      <th>Rear camera</th>\n",
       "      <th>Front camera</th>\n",
       "      <th>Operating system</th>\n",
       "      <th>Wi-Fi</th>\n",
       "      <th>Bluetooth</th>\n",
       "      <th>GPS</th>\n",
       "      <th>Number of SIMs</th>\n",
       "      <th>3G</th>\n",
       "      <th>4G/ LTE</th>\n",
       "      <th>Price</th>\n",
       "    </tr>\n",
       "  </thead>\n",
       "  <tbody>\n",
       "    <tr>\n",
       "      <th>0</th>\n",
       "      <td>0</td>\n",
       "      <td>OnePlus 7T Pro McLaren Edition</td>\n",
       "      <td>OnePlus</td>\n",
       "      <td>7T Pro McLaren Edition</td>\n",
       "      <td>4085</td>\n",
       "      <td>6.67</td>\n",
       "      <td>Yes</td>\n",
       "      <td>1440</td>\n",
       "      <td>3120</td>\n",
       "      <td>8</td>\n",
       "      <td>...</td>\n",
       "      <td>48.0</td>\n",
       "      <td>16.0</td>\n",
       "      <td>Android</td>\n",
       "      <td>Yes</td>\n",
       "      <td>Yes</td>\n",
       "      <td>Yes</td>\n",
       "      <td>2</td>\n",
       "      <td>Yes</td>\n",
       "      <td>Yes</td>\n",
       "      <td>58998</td>\n",
       "    </tr>\n",
       "    <tr>\n",
       "      <th>1</th>\n",
       "      <td>1</td>\n",
       "      <td>Realme X2 Pro</td>\n",
       "      <td>Realme</td>\n",
       "      <td>X2 Pro</td>\n",
       "      <td>4000</td>\n",
       "      <td>6.50</td>\n",
       "      <td>Yes</td>\n",
       "      <td>1080</td>\n",
       "      <td>2400</td>\n",
       "      <td>8</td>\n",
       "      <td>...</td>\n",
       "      <td>64.0</td>\n",
       "      <td>16.0</td>\n",
       "      <td>Android</td>\n",
       "      <td>Yes</td>\n",
       "      <td>Yes</td>\n",
       "      <td>Yes</td>\n",
       "      <td>2</td>\n",
       "      <td>Yes</td>\n",
       "      <td>Yes</td>\n",
       "      <td>27999</td>\n",
       "    </tr>\n",
       "    <tr>\n",
       "      <th>2</th>\n",
       "      <td>2</td>\n",
       "      <td>iPhone 11 Pro Max</td>\n",
       "      <td>Apple</td>\n",
       "      <td>iPhone 11 Pro Max</td>\n",
       "      <td>3969</td>\n",
       "      <td>6.50</td>\n",
       "      <td>Yes</td>\n",
       "      <td>1242</td>\n",
       "      <td>2688</td>\n",
       "      <td>6</td>\n",
       "      <td>...</td>\n",
       "      <td>12.0</td>\n",
       "      <td>12.0</td>\n",
       "      <td>iOS</td>\n",
       "      <td>Yes</td>\n",
       "      <td>Yes</td>\n",
       "      <td>Yes</td>\n",
       "      <td>2</td>\n",
       "      <td>Yes</td>\n",
       "      <td>Yes</td>\n",
       "      <td>106900</td>\n",
       "    </tr>\n",
       "    <tr>\n",
       "      <th>3</th>\n",
       "      <td>3</td>\n",
       "      <td>iPhone 11</td>\n",
       "      <td>Apple</td>\n",
       "      <td>iPhone 11</td>\n",
       "      <td>3110</td>\n",
       "      <td>6.10</td>\n",
       "      <td>Yes</td>\n",
       "      <td>828</td>\n",
       "      <td>1792</td>\n",
       "      <td>6</td>\n",
       "      <td>...</td>\n",
       "      <td>12.0</td>\n",
       "      <td>12.0</td>\n",
       "      <td>iOS</td>\n",
       "      <td>Yes</td>\n",
       "      <td>Yes</td>\n",
       "      <td>Yes</td>\n",
       "      <td>2</td>\n",
       "      <td>Yes</td>\n",
       "      <td>Yes</td>\n",
       "      <td>62900</td>\n",
       "    </tr>\n",
       "    <tr>\n",
       "      <th>4</th>\n",
       "      <td>4</td>\n",
       "      <td>LG G8X ThinQ</td>\n",
       "      <td>LG</td>\n",
       "      <td>G8X ThinQ</td>\n",
       "      <td>4000</td>\n",
       "      <td>6.40</td>\n",
       "      <td>Yes</td>\n",
       "      <td>1080</td>\n",
       "      <td>2340</td>\n",
       "      <td>8</td>\n",
       "      <td>...</td>\n",
       "      <td>12.0</td>\n",
       "      <td>32.0</td>\n",
       "      <td>Android</td>\n",
       "      <td>Yes</td>\n",
       "      <td>Yes</td>\n",
       "      <td>Yes</td>\n",
       "      <td>1</td>\n",
       "      <td>No</td>\n",
       "      <td>No</td>\n",
       "      <td>49990</td>\n",
       "    </tr>\n",
       "  </tbody>\n",
       "</table>\n",
       "<p>5 rows × 22 columns</p>\n",
       "</div>"
      ],
      "text/plain": [
       "   Unnamed: 0                            Name    Brand  \\\n",
       "0           0  OnePlus 7T Pro McLaren Edition  OnePlus   \n",
       "1           1                   Realme X2 Pro   Realme   \n",
       "2           2               iPhone 11 Pro Max    Apple   \n",
       "3           3                       iPhone 11    Apple   \n",
       "4           4                    LG G8X ThinQ       LG   \n",
       "\n",
       "                    Model  Battery capacity (mAh)  Screen size (inches)  \\\n",
       "0  7T Pro McLaren Edition                    4085                  6.67   \n",
       "1                  X2 Pro                    4000                  6.50   \n",
       "2       iPhone 11 Pro Max                    3969                  6.50   \n",
       "3               iPhone 11                    3110                  6.10   \n",
       "4               G8X ThinQ                    4000                  6.40   \n",
       "\n",
       "  Touchscreen  Resolution x  Resolution y  Processor  ...  Rear camera  \\\n",
       "0         Yes          1440          3120          8  ...         48.0   \n",
       "1         Yes          1080          2400          8  ...         64.0   \n",
       "2         Yes          1242          2688          6  ...         12.0   \n",
       "3         Yes           828          1792          6  ...         12.0   \n",
       "4         Yes          1080          2340          8  ...         12.0   \n",
       "\n",
       "   Front camera  Operating system  Wi-Fi Bluetooth  GPS Number of SIMs   3G  \\\n",
       "0          16.0           Android    Yes       Yes  Yes              2  Yes   \n",
       "1          16.0           Android    Yes       Yes  Yes              2  Yes   \n",
       "2          12.0               iOS    Yes       Yes  Yes              2  Yes   \n",
       "3          12.0               iOS    Yes       Yes  Yes              2  Yes   \n",
       "4          32.0           Android    Yes       Yes  Yes              1   No   \n",
       "\n",
       "   4G/ LTE   Price  \n",
       "0      Yes   58998  \n",
       "1      Yes   27999  \n",
       "2      Yes  106900  \n",
       "3      Yes   62900  \n",
       "4       No   49990  \n",
       "\n",
       "[5 rows x 22 columns]"
      ]
     },
     "execution_count": 3,
     "metadata": {},
     "output_type": "execute_result"
    }
   ],
   "source": [
    "data.head()"
   ]
  },
  {
   "cell_type": "code",
   "execution_count": 4,
   "id": "2cd625a6",
   "metadata": {},
   "outputs": [],
   "source": [
    "data.rename(columns={'RAM (MB)': 'RAM (GB)'}, inplace=True)\n",
    "data['RAM (GB)'] = data['RAM (GB)'] / 1000  # Convert MB to GB"
   ]
  },
  {
   "cell_type": "code",
   "execution_count": 5,
   "id": "07f32045",
   "metadata": {},
   "outputs": [
    {
     "name": "stderr",
     "output_type": "stream",
     "text": [
      "C:\\Users\\sonam\\AppData\\Local\\Temp\\ipykernel_37276\\4237768644.py:6: SettingWithCopyWarning: \n",
      "A value is trying to be set on a copy of a slice from a DataFrame.\n",
      "Try using .loc[row_indexer,col_indexer] = value instead\n",
      "\n",
      "See the caveats in the documentation: https://pandas.pydata.org/pandas-docs/stable/user_guide/indexing.html#returning-a-view-versus-a-copy\n",
      "  data_selected['Brand'] = data_selected['Brand'].str.upper()\n"
     ]
    }
   ],
   "source": [
    "# Selecting relevant columns including 'Brand' for one-hot encoding\n",
    "selected_columns = ['Brand', 'Price', 'Internal storage (GB)', 'RAM (GB)', \n",
    "                    'Rear camera', 'Front camera', 'Battery capacity (mAh)','Name']\n",
    "data_selected = data[selected_columns]\n",
    "#Normalize the 'Brand' column to be uppercased\n",
    "data_selected['Brand'] = data_selected['Brand'].str.upper()"
   ]
  },
  {
   "cell_type": "code",
   "execution_count": 6,
   "id": "31456f0b",
   "metadata": {},
   "outputs": [],
   "source": [
    "# Specify the file name and path\n",
    "file_name = 'output.xlsx'\n",
    "\n",
    "# Export the DataFrame to an Excel file\n",
    "data_selected.to_excel(file_name, index=False)"
   ]
  },
  {
   "cell_type": "code",
   "execution_count": 7,
   "id": "0e586930",
   "metadata": {},
   "outputs": [
    {
     "name": "stdout",
     "output_type": "stream",
     "text": [
      "   Brand   Price  Internal storage (GB)  RAM (GB)  Rear camera  Front camera  \\\n",
      "0     47   58998                  256.0      12.0         48.0          16.0   \n",
      "1     56   27999                   64.0       6.0         64.0          16.0   \n",
      "2      3  106900                   64.0       4.0         12.0          12.0   \n",
      "3      3   62900                   64.0       4.0         12.0          12.0   \n",
      "4     35   49990                  128.0       6.0         12.0          32.0   \n",
      "\n",
      "   Battery capacity (mAh)                            Name  \n",
      "0                    4085  OnePlus 7T Pro McLaren Edition  \n",
      "1                    4000                   Realme X2 Pro  \n",
      "2                    3969               iPhone 11 Pro Max  \n",
      "3                    3110                       iPhone 11  \n",
      "4                    4000                    LG G8X ThinQ  \n"
     ]
    },
    {
     "name": "stderr",
     "output_type": "stream",
     "text": [
      "C:\\Users\\sonam\\AppData\\Local\\Temp\\ipykernel_37276\\3982285942.py:5: SettingWithCopyWarning: \n",
      "A value is trying to be set on a copy of a slice from a DataFrame.\n",
      "Try using .loc[row_indexer,col_indexer] = value instead\n",
      "\n",
      "See the caveats in the documentation: https://pandas.pydata.org/pandas-docs/stable/user_guide/indexing.html#returning-a-view-versus-a-copy\n",
      "  data_selected['Brand'] = label_encoder.fit_transform(data_selected['Brand'])\n"
     ]
    }
   ],
   "source": [
    "from sklearn.preprocessing import LabelEncoder\n",
    "\n",
    "# Encode the 'Brand' column\n",
    "label_encoder = LabelEncoder()\n",
    "data_selected['Brand'] = label_encoder.fit_transform(data_selected['Brand'])\n",
    "\n",
    "# Display the first few rows after encoding\n",
    "print(data_selected.head())"
   ]
  },
  {
   "cell_type": "code",
   "execution_count": 8,
   "id": "7284884f",
   "metadata": {
    "scrolled": true
   },
   "outputs": [
    {
     "name": "stdout",
     "output_type": "stream",
     "text": [
      "      Brand     Price  Internal storage (GB)  RAM (GB)  Rear camera  \\\n",
      "0  0.425726  3.431332               6.100856  5.716470     4.016727   \n",
      "1  0.887139  1.193524               0.902766  2.110328     5.805427   \n",
      "2 -1.830074  6.889361               0.902766  0.908280    -0.007848   \n",
      "3 -1.830074  3.713016               0.902766  0.908280    -0.007848   \n",
      "4 -0.189492  2.781047               2.635462  2.110328    -0.007848   \n",
      "\n",
      "   Front camera  Battery capacity (mAh)  \n",
      "0      1.424097                1.313010  \n",
      "1      1.424097                1.215666  \n",
      "2      0.788484                1.180164  \n",
      "3      0.788484                0.196418  \n",
      "4      3.966552                1.215666  \n"
     ]
    }
   ],
   "source": [
    "from sklearn.preprocessing import StandardScaler\n",
    "\n",
    "# Split the data into features and target\n",
    "X = data_selected.drop('Name', axis=1,errors=\"coerce\")\n",
    "y = data_selected['Name']\n",
    "\n",
    "# Standardize the data\n",
    "scaler = StandardScaler()\n",
    "X_scaled = scaler.fit_transform(X)\n",
    "\n",
    "# Display the first few rows of the standardized features\n",
    "print(pd.DataFrame(X_scaled, columns=X.columns).head())\n"
   ]
  },
  {
   "cell_type": "code",
   "execution_count": 9,
   "id": "42183196",
   "metadata": {},
   "outputs": [],
   "source": [
    "# Example input features\n",
    "input_features = {\n",
    "    'Brand': 'LG',\n",
    "    'Price': 100000,\n",
    "    'Internal storage (GB)': 128,\n",
    "    'RAM (GB)': 8,\n",
    "    'Rear camera': 48,\n",
    "    'Front camera': 16,\n",
    "    'Battery capacity (mAh)': 4000\n",
    "}"
   ]
  },
  {
   "cell_type": "code",
   "execution_count": 10,
   "id": "df59cb71",
   "metadata": {},
   "outputs": [
    {
     "data": {
      "text/html": [
       "<style>#sk-container-id-1 {color: black;background-color: white;}#sk-container-id-1 pre{padding: 0;}#sk-container-id-1 div.sk-toggleable {background-color: white;}#sk-container-id-1 label.sk-toggleable__label {cursor: pointer;display: block;width: 100%;margin-bottom: 0;padding: 0.3em;box-sizing: border-box;text-align: center;}#sk-container-id-1 label.sk-toggleable__label-arrow:before {content: \"▸\";float: left;margin-right: 0.25em;color: #696969;}#sk-container-id-1 label.sk-toggleable__label-arrow:hover:before {color: black;}#sk-container-id-1 div.sk-estimator:hover label.sk-toggleable__label-arrow:before {color: black;}#sk-container-id-1 div.sk-toggleable__content {max-height: 0;max-width: 0;overflow: hidden;text-align: left;background-color: #f0f8ff;}#sk-container-id-1 div.sk-toggleable__content pre {margin: 0.2em;color: black;border-radius: 0.25em;background-color: #f0f8ff;}#sk-container-id-1 input.sk-toggleable__control:checked~div.sk-toggleable__content {max-height: 200px;max-width: 100%;overflow: auto;}#sk-container-id-1 input.sk-toggleable__control:checked~label.sk-toggleable__label-arrow:before {content: \"▾\";}#sk-container-id-1 div.sk-estimator input.sk-toggleable__control:checked~label.sk-toggleable__label {background-color: #d4ebff;}#sk-container-id-1 div.sk-label input.sk-toggleable__control:checked~label.sk-toggleable__label {background-color: #d4ebff;}#sk-container-id-1 input.sk-hidden--visually {border: 0;clip: rect(1px 1px 1px 1px);clip: rect(1px, 1px, 1px, 1px);height: 1px;margin: -1px;overflow: hidden;padding: 0;position: absolute;width: 1px;}#sk-container-id-1 div.sk-estimator {font-family: monospace;background-color: #f0f8ff;border: 1px dotted black;border-radius: 0.25em;box-sizing: border-box;margin-bottom: 0.5em;}#sk-container-id-1 div.sk-estimator:hover {background-color: #d4ebff;}#sk-container-id-1 div.sk-parallel-item::after {content: \"\";width: 100%;border-bottom: 1px solid gray;flex-grow: 1;}#sk-container-id-1 div.sk-label:hover label.sk-toggleable__label {background-color: #d4ebff;}#sk-container-id-1 div.sk-serial::before {content: \"\";position: absolute;border-left: 1px solid gray;box-sizing: border-box;top: 0;bottom: 0;left: 50%;z-index: 0;}#sk-container-id-1 div.sk-serial {display: flex;flex-direction: column;align-items: center;background-color: white;padding-right: 0.2em;padding-left: 0.2em;position: relative;}#sk-container-id-1 div.sk-item {position: relative;z-index: 1;}#sk-container-id-1 div.sk-parallel {display: flex;align-items: stretch;justify-content: center;background-color: white;position: relative;}#sk-container-id-1 div.sk-item::before, #sk-container-id-1 div.sk-parallel-item::before {content: \"\";position: absolute;border-left: 1px solid gray;box-sizing: border-box;top: 0;bottom: 0;left: 50%;z-index: -1;}#sk-container-id-1 div.sk-parallel-item {display: flex;flex-direction: column;z-index: 1;position: relative;background-color: white;}#sk-container-id-1 div.sk-parallel-item:first-child::after {align-self: flex-end;width: 50%;}#sk-container-id-1 div.sk-parallel-item:last-child::after {align-self: flex-start;width: 50%;}#sk-container-id-1 div.sk-parallel-item:only-child::after {width: 0;}#sk-container-id-1 div.sk-dashed-wrapped {border: 1px dashed gray;margin: 0 0.4em 0.5em 0.4em;box-sizing: border-box;padding-bottom: 0.4em;background-color: white;}#sk-container-id-1 div.sk-label label {font-family: monospace;font-weight: bold;display: inline-block;line-height: 1.2em;}#sk-container-id-1 div.sk-label-container {text-align: center;}#sk-container-id-1 div.sk-container {/* jupyter's `normalize.less` sets `[hidden] { display: none; }` but bootstrap.min.css set `[hidden] { display: none !important; }` so we also need the `!important` here to be able to override the default hidden behavior on the sphinx rendered scikit-learn.org. See: https://github.com/scikit-learn/scikit-learn/issues/21755 */display: inline-block !important;position: relative;}#sk-container-id-1 div.sk-text-repr-fallback {display: none;}</style><div id=\"sk-container-id-1\" class=\"sk-top-container\"><div class=\"sk-text-repr-fallback\"><pre>NearestNeighbors()</pre><b>In a Jupyter environment, please rerun this cell to show the HTML representation or trust the notebook. <br />On GitHub, the HTML representation is unable to render, please try loading this page with nbviewer.org.</b></div><div class=\"sk-container\" hidden><div class=\"sk-item\"><div class=\"sk-estimator sk-toggleable\"><input class=\"sk-toggleable__control sk-hidden--visually\" id=\"sk-estimator-id-1\" type=\"checkbox\" checked><label for=\"sk-estimator-id-1\" class=\"sk-toggleable__label sk-toggleable__label-arrow\">NearestNeighbors</label><div class=\"sk-toggleable__content\"><pre>NearestNeighbors()</pre></div></div></div></div></div>"
      ],
      "text/plain": [
       "NearestNeighbors()"
      ]
     },
     "execution_count": 10,
     "metadata": {},
     "output_type": "execute_result"
    }
   ],
   "source": [
    "from sklearn.neighbors import NearestNeighbors\n",
    "\n",
    "# Fit the k-NN model for nearest neighbors search\n",
    "knn = NearestNeighbors(n_neighbors=5)\n",
    "knn.fit(X_scaled)\n"
   ]
  },
  {
   "cell_type": "code",
   "execution_count": 11,
   "id": "35d81e31",
   "metadata": {},
   "outputs": [
    {
     "name": "stdout",
     "output_type": "stream",
     "text": [
      "['Huawei Mate 30 Pro' 'Huawei Mate 20 Pro' 'Nubia Red Magic 3S'\n",
      " 'OnePlus 7 Pro' 'Google Pixel 4 XL']\n"
     ]
    }
   ],
   "source": [
    "def recommend_phone(input_features):\n",
    " \n",
    "    # Convert input features to DataFrame\n",
    "    input_df = pd.DataFrame([input_features])\n",
    "    \n",
    "    # Encode the 'Brand' column\n",
    "    input_df['Brand'] = label_encoder.transform(input_df['Brand'])\n",
    "    \n",
    "    # Standardize the input features\n",
    "    input_scaled = scaler.transform(input_df)\n",
    "    \n",
    "    # Find the nearest neighbors\n",
    "    distances, indices = knn.kneighbors(input_scaled)\n",
    "    \n",
    "    # Get the recommended phone names\n",
    "    recommended_phones = y.iloc[indices[0]].values\n",
    "    \n",
    "    return recommended_phones\n",
    "\n",
    "\n",
    "\n",
    "# Recommend phones\n",
    "print(recommend_phone(input_features))\n"
   ]
  },
  {
   "cell_type": "markdown",
   "id": "86f20a79",
   "metadata": {},
   "source": [
    "# "
   ]
  },
  {
   "cell_type": "code",
   "execution_count": 12,
   "id": "36d3ac05",
   "metadata": {},
   "outputs": [
    {
     "name": "stderr",
     "output_type": "stream",
     "text": [
      "C:\\Users\\sonam\\anaconda3\\Lib\\site-packages\\sklearn\\cluster\\_kmeans.py:870: FutureWarning: The default value of `n_init` will change from 10 to 'auto' in 1.4. Set the value of `n_init` explicitly to suppress the warning\n",
      "  warnings.warn(\n",
      "C:\\Users\\sonam\\anaconda3\\Lib\\site-packages\\sklearn\\cluster\\_kmeans.py:1382: UserWarning: KMeans is known to have a memory leak on Windows with MKL, when there are less chunks than available threads. You can avoid it by setting the environment variable OMP_NUM_THREADS=6.\n",
      "  warnings.warn(\n"
     ]
    },
    {
     "data": {
      "text/html": [
       "<style>#sk-container-id-2 {color: black;background-color: white;}#sk-container-id-2 pre{padding: 0;}#sk-container-id-2 div.sk-toggleable {background-color: white;}#sk-container-id-2 label.sk-toggleable__label {cursor: pointer;display: block;width: 100%;margin-bottom: 0;padding: 0.3em;box-sizing: border-box;text-align: center;}#sk-container-id-2 label.sk-toggleable__label-arrow:before {content: \"▸\";float: left;margin-right: 0.25em;color: #696969;}#sk-container-id-2 label.sk-toggleable__label-arrow:hover:before {color: black;}#sk-container-id-2 div.sk-estimator:hover label.sk-toggleable__label-arrow:before {color: black;}#sk-container-id-2 div.sk-toggleable__content {max-height: 0;max-width: 0;overflow: hidden;text-align: left;background-color: #f0f8ff;}#sk-container-id-2 div.sk-toggleable__content pre {margin: 0.2em;color: black;border-radius: 0.25em;background-color: #f0f8ff;}#sk-container-id-2 input.sk-toggleable__control:checked~div.sk-toggleable__content {max-height: 200px;max-width: 100%;overflow: auto;}#sk-container-id-2 input.sk-toggleable__control:checked~label.sk-toggleable__label-arrow:before {content: \"▾\";}#sk-container-id-2 div.sk-estimator input.sk-toggleable__control:checked~label.sk-toggleable__label {background-color: #d4ebff;}#sk-container-id-2 div.sk-label input.sk-toggleable__control:checked~label.sk-toggleable__label {background-color: #d4ebff;}#sk-container-id-2 input.sk-hidden--visually {border: 0;clip: rect(1px 1px 1px 1px);clip: rect(1px, 1px, 1px, 1px);height: 1px;margin: -1px;overflow: hidden;padding: 0;position: absolute;width: 1px;}#sk-container-id-2 div.sk-estimator {font-family: monospace;background-color: #f0f8ff;border: 1px dotted black;border-radius: 0.25em;box-sizing: border-box;margin-bottom: 0.5em;}#sk-container-id-2 div.sk-estimator:hover {background-color: #d4ebff;}#sk-container-id-2 div.sk-parallel-item::after {content: \"\";width: 100%;border-bottom: 1px solid gray;flex-grow: 1;}#sk-container-id-2 div.sk-label:hover label.sk-toggleable__label {background-color: #d4ebff;}#sk-container-id-2 div.sk-serial::before {content: \"\";position: absolute;border-left: 1px solid gray;box-sizing: border-box;top: 0;bottom: 0;left: 50%;z-index: 0;}#sk-container-id-2 div.sk-serial {display: flex;flex-direction: column;align-items: center;background-color: white;padding-right: 0.2em;padding-left: 0.2em;position: relative;}#sk-container-id-2 div.sk-item {position: relative;z-index: 1;}#sk-container-id-2 div.sk-parallel {display: flex;align-items: stretch;justify-content: center;background-color: white;position: relative;}#sk-container-id-2 div.sk-item::before, #sk-container-id-2 div.sk-parallel-item::before {content: \"\";position: absolute;border-left: 1px solid gray;box-sizing: border-box;top: 0;bottom: 0;left: 50%;z-index: -1;}#sk-container-id-2 div.sk-parallel-item {display: flex;flex-direction: column;z-index: 1;position: relative;background-color: white;}#sk-container-id-2 div.sk-parallel-item:first-child::after {align-self: flex-end;width: 50%;}#sk-container-id-2 div.sk-parallel-item:last-child::after {align-self: flex-start;width: 50%;}#sk-container-id-2 div.sk-parallel-item:only-child::after {width: 0;}#sk-container-id-2 div.sk-dashed-wrapped {border: 1px dashed gray;margin: 0 0.4em 0.5em 0.4em;box-sizing: border-box;padding-bottom: 0.4em;background-color: white;}#sk-container-id-2 div.sk-label label {font-family: monospace;font-weight: bold;display: inline-block;line-height: 1.2em;}#sk-container-id-2 div.sk-label-container {text-align: center;}#sk-container-id-2 div.sk-container {/* jupyter's `normalize.less` sets `[hidden] { display: none; }` but bootstrap.min.css set `[hidden] { display: none !important; }` so we also need the `!important` here to be able to override the default hidden behavior on the sphinx rendered scikit-learn.org. See: https://github.com/scikit-learn/scikit-learn/issues/21755 */display: inline-block !important;position: relative;}#sk-container-id-2 div.sk-text-repr-fallback {display: none;}</style><div id=\"sk-container-id-2\" class=\"sk-top-container\"><div class=\"sk-text-repr-fallback\"><pre>KMeans(n_clusters=3, random_state=40)</pre><b>In a Jupyter environment, please rerun this cell to show the HTML representation or trust the notebook. <br />On GitHub, the HTML representation is unable to render, please try loading this page with nbviewer.org.</b></div><div class=\"sk-container\" hidden><div class=\"sk-item\"><div class=\"sk-estimator sk-toggleable\"><input class=\"sk-toggleable__control sk-hidden--visually\" id=\"sk-estimator-id-2\" type=\"checkbox\" checked><label for=\"sk-estimator-id-2\" class=\"sk-toggleable__label sk-toggleable__label-arrow\">KMeans</label><div class=\"sk-toggleable__content\"><pre>KMeans(n_clusters=3, random_state=40)</pre></div></div></div></div></div>"
      ],
      "text/plain": [
       "KMeans(n_clusters=3, random_state=40)"
      ]
     },
     "execution_count": 12,
     "metadata": {},
     "output_type": "execute_result"
    }
   ],
   "source": [
    "from sklearn.cluster import KMeans\n",
    "\n",
    "# Fit the K-Means model\n",
    "kmeans = KMeans(n_clusters=3, random_state=40)\n",
    "kmeans.fit(X_scaled)"
   ]
  },
  {
   "cell_type": "code",
   "execution_count": 13,
   "id": "2f929a74",
   "metadata": {},
   "outputs": [
    {
     "name": "stdout",
     "output_type": "stream",
     "text": [
      "['OnePlus 7T Pro McLaren Edition' 'Realme X2 Pro' 'iPhone 11 Pro Max'\n",
      " 'LG G8X ThinQ' 'OnePlus 7T' 'OnePlus 7T Pro' 'Samsung Galaxy Note 10+'\n",
      " 'Asus ROG Phone 2' 'Xiaomi Redmi K20 Pro' 'Realme X' 'Xiaomi Redmi K20'\n",
      " 'OnePlus 7 Pro' 'Oppo Reno 10x Zoom' 'Huawei P30 Pro' 'Redmi Note 7 Pro'\n",
      " 'Huawei Mate 20 Pro' 'LG V40 ThinQ' 'OnePlus 6T' 'Asus ROG Phone'\n",
      " 'Samsung Galaxy Note 9' 'LG G7+ ThinQ' 'Huawei P20 Pro' 'HTC U11+'\n",
      " 'HTC U11' 'Asus ZenFone 3 Deluxe (ZS570KL)' 'Poco X2'\n",
      " 'Samsung Galaxy S10 Lite' 'Samsung Galaxy Note 10 Lite' 'Vivo V17'\n",
      " 'Realme 5s' 'Realme X2' 'Vivo V17 Pro' 'Nubia Red Magic 3S'\n",
      " 'Samsung Galaxy M30s' 'Vivo Z1x' 'Oppo Reno 2Z' 'Realme XT'\n",
      " 'Redmi Note 8 Pro' 'Nokia 7.2' 'Samsung Galaxy A50s' 'Realme 5 Pro'\n",
      " 'Vivo Z1 Pro' 'Xiaomi Mi A3' 'Asus 6Z' 'Samsung Galaxy M40'\n",
      " 'Motorola One Vision' 'Nubia Red Magic 3' 'Samsung Galaxy A70'\n",
      " 'Black Shark 2' 'OnePlus 7' 'Vivo V15 Pro' 'Honor View 20'\n",
      " 'Samsung Galaxy A9 (2018)' 'Oppo R17 Pro' 'Vivo Nex' 'Oppo Find X'\n",
      " 'Honor 10' 'Honor View 10' 'Infinix Zero 5 Pro' 'Asus ZenFone AR'\n",
      " 'Oppo F15' 'Vivo S1 Pro' 'Motorola Moto G8 Plus' 'Oppo A9 2020'\n",
      " 'Honor 9X' 'Vivo Y17' 'Honor 20i' 'Vivo S1' 'Vivo V15' 'Meizu M16th'\n",
      " 'Panasonic Eluga X1 Pro' 'Oppo F9 Pro' 'Huawei Nova 3i' 'Huawei Nova 3'\n",
      " 'Nubia Red Magic' 'Samsung Galaxy S20+' 'Samsung Galaxy S20 Ultra'\n",
      " 'Samsung Galaxy Z Flip' 'Samsung Galaxy S20' 'Vivo Y19'\n",
      " 'Google Pixel 4 XL' 'Google Pixel 4' 'Samsung Galaxy A70s'\n",
      " 'iPhone 11 Pro' 'Oppo Reno 2F' 'Huawei Mate 30 Pro'\n",
      " 'Samsung Galaxy Note 10' 'Tecno Phantom 9' 'Samsung Galaxy A80'\n",
      " 'Oppo Reno' 'Samsung Galaxy Fold' 'Oppo R15 Pro' 'Razer Phone 2'\n",
      " 'Samsung Galaxy A8 Star' 'Oppo R17' 'HTC U12+' 'Cat S61'\n",
      " 'Sony Xperia XA2 Ultra' 'HP Elite x3']\n"
     ]
    }
   ],
   "source": [
    "\n",
    "# Implement the Recommendation Function for K-Means\n",
    "def recommend_phone_kmeans(input_features):\n",
    "    \"\"\"\n",
    "    Recommend phones based on input features using K-Means.\n",
    "    input_features: dict containing values for the selected columns\n",
    "    \"\"\"\n",
    "    # Convert input features to DataFrame\n",
    "    input_df = pd.DataFrame([input_features])\n",
    "    \n",
    "    # Encode the 'Brand' column\n",
    "    input_df['Brand'] = label_encoder.transform(input_df['Brand'])\n",
    "    \n",
    "    # Standardize the input features\n",
    "    input_scaled = scaler.transform(input_df)\n",
    "    \n",
    "    # Predict the cluster for the input features\n",
    "    cluster = kmeans.predict(input_scaled)\n",
    "    \n",
    "    # Get the indices of phones in the same cluster\n",
    "    indices = (kmeans.labels_ == cluster[0]).nonzero()[0]\n",
    "    \n",
    "    # Get the recommended phone names\n",
    "    recommended_phones = y.iloc[indices].values\n",
    "    \n",
    "    return recommended_phones\n",
    "\n",
    "# Recommend phones using K-Means\n",
    "print(recommend_phone_kmeans(input_features))"
   ]
  },
  {
   "cell_type": "code",
   "execution_count": 14,
   "id": "71065281",
   "metadata": {},
   "outputs": [],
   "source": [
    "from sklearn.tree import DecisionTreeClassifier\n",
    "from sklearn.model_selection import train_test_split\n",
    "from sklearn.metrics import accuracy_score\n",
    "\n",
    "# Split the data into training and testing sets\n",
    "X_train, X_test, y_train, y_test = train_test_split(X_scaled, y, test_size=0.2, random_state=42)\n"
   ]
  },
  {
   "cell_type": "code",
   "execution_count": 15,
   "id": "e09a4912",
   "metadata": {},
   "outputs": [
    {
     "data": {
      "text/html": [
       "<style>#sk-container-id-3 {color: black;background-color: white;}#sk-container-id-3 pre{padding: 0;}#sk-container-id-3 div.sk-toggleable {background-color: white;}#sk-container-id-3 label.sk-toggleable__label {cursor: pointer;display: block;width: 100%;margin-bottom: 0;padding: 0.3em;box-sizing: border-box;text-align: center;}#sk-container-id-3 label.sk-toggleable__label-arrow:before {content: \"▸\";float: left;margin-right: 0.25em;color: #696969;}#sk-container-id-3 label.sk-toggleable__label-arrow:hover:before {color: black;}#sk-container-id-3 div.sk-estimator:hover label.sk-toggleable__label-arrow:before {color: black;}#sk-container-id-3 div.sk-toggleable__content {max-height: 0;max-width: 0;overflow: hidden;text-align: left;background-color: #f0f8ff;}#sk-container-id-3 div.sk-toggleable__content pre {margin: 0.2em;color: black;border-radius: 0.25em;background-color: #f0f8ff;}#sk-container-id-3 input.sk-toggleable__control:checked~div.sk-toggleable__content {max-height: 200px;max-width: 100%;overflow: auto;}#sk-container-id-3 input.sk-toggleable__control:checked~label.sk-toggleable__label-arrow:before {content: \"▾\";}#sk-container-id-3 div.sk-estimator input.sk-toggleable__control:checked~label.sk-toggleable__label {background-color: #d4ebff;}#sk-container-id-3 div.sk-label input.sk-toggleable__control:checked~label.sk-toggleable__label {background-color: #d4ebff;}#sk-container-id-3 input.sk-hidden--visually {border: 0;clip: rect(1px 1px 1px 1px);clip: rect(1px, 1px, 1px, 1px);height: 1px;margin: -1px;overflow: hidden;padding: 0;position: absolute;width: 1px;}#sk-container-id-3 div.sk-estimator {font-family: monospace;background-color: #f0f8ff;border: 1px dotted black;border-radius: 0.25em;box-sizing: border-box;margin-bottom: 0.5em;}#sk-container-id-3 div.sk-estimator:hover {background-color: #d4ebff;}#sk-container-id-3 div.sk-parallel-item::after {content: \"\";width: 100%;border-bottom: 1px solid gray;flex-grow: 1;}#sk-container-id-3 div.sk-label:hover label.sk-toggleable__label {background-color: #d4ebff;}#sk-container-id-3 div.sk-serial::before {content: \"\";position: absolute;border-left: 1px solid gray;box-sizing: border-box;top: 0;bottom: 0;left: 50%;z-index: 0;}#sk-container-id-3 div.sk-serial {display: flex;flex-direction: column;align-items: center;background-color: white;padding-right: 0.2em;padding-left: 0.2em;position: relative;}#sk-container-id-3 div.sk-item {position: relative;z-index: 1;}#sk-container-id-3 div.sk-parallel {display: flex;align-items: stretch;justify-content: center;background-color: white;position: relative;}#sk-container-id-3 div.sk-item::before, #sk-container-id-3 div.sk-parallel-item::before {content: \"\";position: absolute;border-left: 1px solid gray;box-sizing: border-box;top: 0;bottom: 0;left: 50%;z-index: -1;}#sk-container-id-3 div.sk-parallel-item {display: flex;flex-direction: column;z-index: 1;position: relative;background-color: white;}#sk-container-id-3 div.sk-parallel-item:first-child::after {align-self: flex-end;width: 50%;}#sk-container-id-3 div.sk-parallel-item:last-child::after {align-self: flex-start;width: 50%;}#sk-container-id-3 div.sk-parallel-item:only-child::after {width: 0;}#sk-container-id-3 div.sk-dashed-wrapped {border: 1px dashed gray;margin: 0 0.4em 0.5em 0.4em;box-sizing: border-box;padding-bottom: 0.4em;background-color: white;}#sk-container-id-3 div.sk-label label {font-family: monospace;font-weight: bold;display: inline-block;line-height: 1.2em;}#sk-container-id-3 div.sk-label-container {text-align: center;}#sk-container-id-3 div.sk-container {/* jupyter's `normalize.less` sets `[hidden] { display: none; }` but bootstrap.min.css set `[hidden] { display: none !important; }` so we also need the `!important` here to be able to override the default hidden behavior on the sphinx rendered scikit-learn.org. See: https://github.com/scikit-learn/scikit-learn/issues/21755 */display: inline-block !important;position: relative;}#sk-container-id-3 div.sk-text-repr-fallback {display: none;}</style><div id=\"sk-container-id-3\" class=\"sk-top-container\"><div class=\"sk-text-repr-fallback\"><pre>DecisionTreeClassifier(random_state=42)</pre><b>In a Jupyter environment, please rerun this cell to show the HTML representation or trust the notebook. <br />On GitHub, the HTML representation is unable to render, please try loading this page with nbviewer.org.</b></div><div class=\"sk-container\" hidden><div class=\"sk-item\"><div class=\"sk-estimator sk-toggleable\"><input class=\"sk-toggleable__control sk-hidden--visually\" id=\"sk-estimator-id-3\" type=\"checkbox\" checked><label for=\"sk-estimator-id-3\" class=\"sk-toggleable__label sk-toggleable__label-arrow\">DecisionTreeClassifier</label><div class=\"sk-toggleable__content\"><pre>DecisionTreeClassifier(random_state=42)</pre></div></div></div></div></div>"
      ],
      "text/plain": [
       "DecisionTreeClassifier(random_state=42)"
      ]
     },
     "execution_count": 15,
     "metadata": {},
     "output_type": "execute_result"
    }
   ],
   "source": [
    "# Fit the Decision Tree model\n",
    "dt = DecisionTreeClassifier(random_state=42)\n",
    "dt.fit(X_train, y_train)\n"
   ]
  },
  {
   "cell_type": "code",
   "execution_count": 16,
   "id": "5f083e29",
   "metadata": {},
   "outputs": [
    {
     "name": "stdout",
     "output_type": "stream",
     "text": [
      "Decision Tree Accuracy: 0.0\n"
     ]
    }
   ],
   "source": [
    "# Evaluate the Decision Tree model\n",
    "y_pred = dt.predict(X_test)\n",
    "print(f\"Decision Tree Accuracy: {accuracy_score(y_test, y_pred)}\")\n"
   ]
  },
  {
   "cell_type": "code",
   "execution_count": 17,
   "id": "41f48450",
   "metadata": {},
   "outputs": [
    {
     "name": "stdout",
     "output_type": "stream",
     "text": [
      "['Oppo Reno 2F']\n"
     ]
    }
   ],
   "source": [
    "# Implement the Recommendation Function for Decision Tree\n",
    "def recommend_phone_dt(input_features):\n",
    "    \"\"\"\n",
    "    Recommend phones based on input features using Decision Tree.\n",
    "    input_features: dict containing values for the selected columns\n",
    "    \"\"\"\n",
    "    # Convert input features to DataFrame\n",
    "    input_df = pd.DataFrame([input_features])\n",
    "    \n",
    "    # Encode the 'Brand' column\n",
    "    input_df['Brand'] = label_encoder.transform(input_df['Brand'])\n",
    "    \n",
    "    # Standardize the input features\n",
    "    input_scaled = scaler.transform(input_df)\n",
    "    \n",
    "    # Predict the phone name\n",
    "    recommended_phone = dt.predict(input_scaled)\n",
    "    \n",
    "    return recommended_phone\n",
    "\n",
    "# Recommend phones using Decision Tree\n",
    "print(recommend_phone_dt(input_features))"
   ]
  },
  {
   "cell_type": "code",
   "execution_count": 18,
   "id": "85ecb3e9",
   "metadata": {},
   "outputs": [
    {
     "name": "stdout",
     "output_type": "stream",
     "text": [
      "Random Forest Accuracy: 0.0\n"
     ]
    }
   ],
   "source": [
    "from sklearn.ensemble import RandomForestClassifier\n",
    "\n",
    "# Fit the Random Forest model\n",
    "rf = RandomForestClassifier(random_state=42)\n",
    "rf.fit(X_train, y_train)\n",
    "\n",
    "# Evaluate the Random Forest model\n",
    "y_pred_rf = rf.predict(X_test)\n",
    "print(f\"Random Forest Accuracy: {accuracy_score(y_test, y_pred_rf)}\")\n"
   ]
  },
  {
   "cell_type": "code",
   "execution_count": 19,
   "id": "49b6de8f",
   "metadata": {},
   "outputs": [
    {
     "name": "stdout",
     "output_type": "stream",
     "text": [
      "['Huawei Mate 30 Pro']\n"
     ]
    }
   ],
   "source": [
    "# Implement the Recommendation Function for Random Forest\n",
    "def recommend_phone_rf(input_features):\n",
    "    \"\"\"\n",
    "    Recommend phones based on input features using Random Forest.\n",
    "    input_features: dict containing values for the selected columns\n",
    "    \"\"\"\n",
    "    # Convert input features to DataFrame\n",
    "    input_df = pd.DataFrame([input_features])\n",
    "    \n",
    "    # Encode the 'Brand' column\n",
    "    input_df['Brand'] = label_encoder.transform(input_df['Brand'])\n",
    "    \n",
    "    # Standardize the input features\n",
    "    input_scaled = scaler.transform(input_df)\n",
    "    \n",
    "    # Predict the phone name\n",
    "    recommended_phone = rf.predict(input_scaled)\n",
    "    \n",
    "    return recommended_phone\n",
    "\n",
    "# Recommend phones using Random Forest\n",
    "print(recommend_phone_rf(input_features))"
   ]
  },
  {
   "cell_type": "code",
   "execution_count": null,
   "id": "49f141d4",
   "metadata": {},
   "outputs": [],
   "source": []
  },
  {
   "cell_type": "code",
   "execution_count": null,
   "id": "b11b8c75",
   "metadata": {},
   "outputs": [],
   "source": []
  },
  {
   "cell_type": "code",
   "execution_count": null,
   "id": "4daafba2",
   "metadata": {},
   "outputs": [],
   "source": []
  }
 ],
 "metadata": {
  "kernelspec": {
   "display_name": "Python 3 (ipykernel)",
   "language": "python",
   "name": "python3"
  },
  "language_info": {
   "codemirror_mode": {
    "name": "ipython",
    "version": 3
   },
   "file_extension": ".py",
   "mimetype": "text/x-python",
   "name": "python",
   "nbconvert_exporter": "python",
   "pygments_lexer": "ipython3",
   "version": "3.11.5"
  }
 },
 "nbformat": 4,
 "nbformat_minor": 5
}
